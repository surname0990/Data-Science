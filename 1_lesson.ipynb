{
 "cells": [
  {
   "attachments": {},
   "cell_type": "markdown",
   "metadata": {},
   "source": [
    "Задание 1\n",
    "Дана переменная, в которой хранится слово из латинских букв. Напишите код, который выводит на экран:\n",
    "\n",
    "·среднюю букву, если число букв в слове нечетное;\n",
    "\n",
    "·две средних буквы, если число букв четное.\n",
    "\n",
    "Примеры работы программы:\n",
    "\n",
    "1.word = 'test\"\n",
    "Результат:\n",
    "es\n",
    "\n",
    "1.word = 'testing\"\n",
    "Результат:\n",
    "t"
   ]
  },
  {
   "cell_type": "code",
   "execution_count": 10,
   "metadata": {},
   "outputs": [
    {
     "name": "stdout",
     "output_type": "stream",
     "text": [
      "er\n"
     ]
    }
   ],
   "source": [
    "word = \"12345\"\n",
    "# word = \"1234\"\n",
    "if len(word)%2 == 0:\n",
    "    print(word[len(word)//2])\n",
    "else:\n",
    "    print(word[len(word)//2],word[(len(word)//2)-1])\n",
    "    # print(word[(len(word)//2)-1 : (len(word)//2)+1])"
   ]
  },
  {
   "attachments": {},
   "cell_type": "markdown",
   "metadata": {},
   "source": [
    "Задание 2\n",
    "Напишите программу, которая последовательно запрашивает у пользователя числа (по одному за раз) и после первого нуля выводит сумму всех ранее введенных чисел.\n",
    "\n",
    "Примеры работы программы:\n",
    "\n",
    "Введите число:\n",
    "1\n",
    "\n",
    "Введите число:\n",
    "4\n",
    "\n",
    "Введите число:\n",
    "6\n",
    "\n",
    "Введите число:\n",
    "0\n",
    "Результат:\n",
    "11\n",
    "\n",
    "Введите число:\n",
    "0\n",
    "Результат:\n",
    "0"
   ]
  },
  {
   "cell_type": "code",
   "execution_count": null,
   "metadata": {},
   "outputs": [],
   "source": [
    "number = int(input(\"Введите число: \"))\n",
    "summ = 0\n",
    "while number != 0:\n",
    "    summ = number + summ\n",
    "    number = int(input(\"Введите число: \"))\n",
    "print(summ)  \n"
   ]
  },
  {
   "attachments": {},
   "cell_type": "markdown",
   "metadata": {},
   "source": [
    "Задание 3\n",
    "Мы делаем  dating-сервиса, и у нас есть список парней и девушек.\n",
    "Выдвигаем гипотезу: лучшие рекомендации мы получим, если просто отсортируем имена по алфавиту и познакомим людей с одинаковыми индексами после сортировки! Но мы не будем никого знакомить, если кто-то может остаться без пары:\n",
    "\n",
    "Примеры работы программы:\n",
    "\n",
    "1.  boys = [\"Peter\", \"Alex\", \"John\", \"Arthur\", \"Richard\"]\n",
    "    girls = [\"Kate\", \"Liza\", \"Kira\", \"Emma\", \"Trisha\"]\n",
    "\n",
    "    Результат:\n",
    "    Идеальные пары:\n",
    "    Alex и Emma\n",
    "    Arthur и Kate\n",
    "    John и Kira\n",
    "    Peter и Liza\n",
    "    Richard и Trisha\n",
    "\n",
    "2.  boys = [\"Peter\", \"Alex\", \"John\", \"Arthur\", \"Richard\", \"Michael\"]\n",
    "    girls = [\"Kate\", \"Liza\", \"Kira\", \"Emma\", \"Trisha\"]\n",
    "\n",
    "    Результат:\n",
    "    Внимание, кто-то может остаться без пары!"
   ]
  },
  {
   "cell_type": "code",
   "execution_count": 27,
   "metadata": {},
   "outputs": [
    {
     "name": "stdout",
     "output_type": "stream",
     "text": [
      "Внимание, кто-то может остаться без пары!\n"
     ]
    }
   ],
   "source": [
    "# boys = [\"Peter\", \"Alex\", \"John\", \"Arthur\", \"Richard\"]\n",
    "# girls = [\"Kate\", \"Liza\", \"Kira\", \"Emma\", \"Trisha\"]\n",
    "boys = [\"Peter\", \"Alex\", \"John\", \"Arthur\", \"Richard\", \"Michael\"]\n",
    "girls = [\"Kate\", \"Liza\", \"Kira\", \"Emma\", \"Trisha\"]\n",
    "\n",
    "if len(boys) == len(girls):\n",
    "    girls.sort()\n",
    "    boys.sort()\n",
    "    # Функция zip () – это встроенная функция Python, которая позволяет нам объединять соответствующие элементы из нескольких последовательностей в один список кортежей\n",
    "    dating  = zip(girls,boys)\n",
    "    print(\"Идеальные пары:\")\n",
    "    for para in dating:\n",
    "        print(f\"{para[0]} и {para[1]}\")\n",
    "else:\n",
    "    print(\"Внимание, кто-то может остаться без пары!\")\n"
   ]
  },
  {
   "attachments": {},
   "cell_type": "markdown",
   "metadata": {},
   "source": [
    "Задание 4\n",
    "У нас есть список, содержащий информацию о среднедневной температуре в Фаренгейтах за произвольный период по странам (структура данных в примере). Необходимо написать код, который рассчитает среднюю температуру за период в Цельсиях(!) для каждой страны.\n",
    "\n",
    "Пример работы программы:\n",
    "\n",
    "countries_temperature = [\n",
    "[Thailand\", [75.2, 77, 78.8, 73.4, 68, 75.2, 77]],\n",
    "[Germany\", [57.2, 55.4, 59, 59, 53.6]],\n",
    "[Russia\", [35.6, 37.4, 39.2, 41, 42.8, 39.2, 35.6]],\n",
    "[Poland\", [50, 50, 53.6, 57.2, 55.4, 55.4]]\n",
    "]\n",
    "Результат:\n",
    "\n",
    "Средняя температура в странах:\n",
    "Thailand - 23.9 С\n",
    "Germany - 13.8 С\n",
    "Russia - 3.7 С\n",
    "Poland - 12.0 С"
   ]
  },
  {
   "cell_type": "code",
   "execution_count": 52,
   "metadata": {},
   "outputs": [
    {
     "name": "stdout",
     "output_type": "stream",
     "text": [
      "Средняя температура в странах:\n",
      "Thailand - 23.9 C\n",
      "Germany - 13.8 C\n",
      "Russia - 3.7 C\n",
      "Poland - 12.0 C\n"
     ]
    }
   ],
   "source": [
    "countries_temperature = [\n",
    "[\"Thailand\", [75.2, 77, 78.8, 73.4, 68, 75.2, 77]],\n",
    "[\"Germany\", [57.2, 55.4, 59, 59, 53.6]],\n",
    "[\"Russia\", [35.6, 37.4, 39.2, 41, 42.8, 39.2, 35.6]],\n",
    "[\"Poland\", [50, 50, 53.6, 57.2, 55.4, 55.4]]\n",
    "]\n",
    "print(\"Средняя температура в странах:\")\n",
    "for country in countries_temperature:\n",
    "    print(f\"{country[0]} - {round((sum(country[1]) / len(country[1]) - 32) / 1.8, 1)} C\")"
   ]
  },
  {
   "attachments": {},
   "cell_type": "markdown",
   "metadata": {},
   "source": [
    "Задание 5\n",
    "Дана переменная, в которой хранится словарь, содержащий гео-метки для каждого пользователя (пример структуры данных приведен ниже). Вам необходимо написать программу, которая выведет на экран множество уникальных гео-меток всех пользователей.\n",
    "\n",
    "Пример работы программы:\n",
    "\n",
    "ids = {user1\": [213, 213, 213, 15, 213],\n",
    "user2\": [54, 54, 119, 119, 119],\n",
    "user3\": [213, 98, 98, 35]}\n",
    "Результат: {98, 35, 15, 213, 54, 119}"
   ]
  },
  {
   "cell_type": "code",
   "execution_count": 61,
   "metadata": {},
   "outputs": [
    {
     "name": "stdout",
     "output_type": "stream",
     "text": [
      "{98, 35, 15, 213, 54, 119}\n"
     ]
    }
   ],
   "source": [
    "ids = {\"user1\": [213, 213, 213, 15, 213],\n",
    "\"user2\": [54, 54, 119, 119, 119],\n",
    "\"user3\": [213, 98, 98, 35]}\n",
    "\n",
    "joinedlist = []\n",
    "for k in ids.values():\n",
    "    joinedlist = k + joinedlist\n",
    "print(set(joinedlist))"
   ]
  },
  {
   "attachments": {},
   "cell_type": "markdown",
   "metadata": {},
   "source": [
    "Задание 7\n",
    "Дана переменная, в которой хранится информация о затратах и доходе рекламных кампаний по различным источникам. Необходимо дополнить исходную структуру показателем ROI, который рассчитаем по формуле: (\"revenue / \"cost - 1) * 100\n",
    "\n",
    "Пример работы программы:\n",
    "\n",
    "results = {\n",
    "vk\": {\"\"revenue\": 103, \"cost\": 98},\n",
    "yandex\": {\"revenue\": 179, \"cost\": 153},\n",
    "facebook\": {\"revenue\": 103, \"cost\": 110},\n",
    "adwords\": {\"revenue\": 35, \"cost\": 34},\n",
    "twitter\": {\"revenue\": 11, \"cost\": 24},\n",
    "}\n",
    "Результат:\n",
    "\n",
    "{adwords\": {\"revenue\": 35, \"cost\": 34, ROI\": 2.94},\n",
    "facebook\": {\"revenue\": 103, \"cost\": 110, ROI\": -6.36},\n",
    "twitter\": {\"revenue\": 11, \"cost\": 24, ROI\": -54.17},\n",
    "vk\": {\"revenue\": 103, \"cost\": 98, ROI\": 5.1},\n",
    "yandex\": {\"revenue\": 179, \"cost\": 153, ROI\": 16.99}}"
   ]
  },
  {
   "cell_type": "code",
   "execution_count": 176,
   "metadata": {},
   "outputs": [
    {
     "name": "stdout",
     "output_type": "stream",
     "text": [
      "adwords {'revenue': 35, 'cost': 34, 'ROI': 2.94}\n",
      "facebook {'revenue': 103, 'cost': 110, 'ROI': -6.36}\n",
      "twitter {'revenue': 11, 'cost': 24, 'ROI': -54.17}\n",
      "vk {'revenue': 103, 'cost': 98, 'ROI': 5.1}\n",
      "yandex {'revenue': 179, 'cost': 153, 'ROI': 16.99}\n"
     ]
    }
   ],
   "source": [
    "results = {\n",
    "\"vk\": {\"revenue\": 103, \"cost\": 98},\n",
    "\"yandex\": {\"revenue\": 179, \"cost\": 153},\n",
    "\"facebook\": {\"revenue\": 103, \"cost\": 110},\n",
    "\"adwords\": {\"revenue\": 35, \"cost\": 34},\n",
    "\"twitter\": {\"revenue\": 11, \"cost\": 24},\n",
    "}\n",
    "\n",
    "# for keys in results:\n",
    "#   results[keys][\"ROI\"] = round(((results[keys][\"revenue\"] / results[keys][\"cost\"] - 1) * 100),2)\n",
    "# print(results)\n",
    "\n",
    "for key, item in sorted(results.items()):\n",
    "    item['ROI']=round(((item['revenue']/item['cost'])-1)*100 , 2)\n",
    "    print(key ,item)\n"
   ]
  },
  {
   "attachments": {},
   "cell_type": "markdown",
   "metadata": {},
   "source": [
    "Задание 8\n",
    "Дана переменная, в которой хранится статистика рекламных каналов по объемам продаж (пример структуры данных приведен ниже). Напишите программу, которая возвращает название канала с максимальным объемом продаж.\n",
    "\n",
    "Пример работы программы:\n",
    "\n",
    "stats = {facebook\": 55, yandex\": 115, vk\": 120, google\": 99, email\": 42, ok\": 98}\n",
    "\n",
    "Результат: Максимальный объем продаж на рекламном канале: vk"
   ]
  },
  {
   "cell_type": "code",
   "execution_count": 180,
   "metadata": {},
   "outputs": [
    {
     "name": "stdout",
     "output_type": "stream",
     "text": [
      "Максимальный объем продаж на рекламном канале:vk\n"
     ]
    }
   ],
   "source": [
    "stats = {'facebook': 55, 'yandex': 115, 'vk': 120, 'google': 99, 'email': 42, 'ok': 98}\n",
    "print(f\"Максимальный объем продаж на рекламном канале:{max(stats, key=stats.get)}\")"
   ]
  }
 ],
 "metadata": {
  "kernelspec": {
   "display_name": "Python 3",
   "language": "python",
   "name": "python3"
  },
  "language_info": {
   "codemirror_mode": {
    "name": "ipython",
    "version": 3
   },
   "file_extension": ".py",
   "mimetype": "text/x-python",
   "name": "python",
   "nbconvert_exporter": "python",
   "pygments_lexer": "ipython3",
   "version": "3.7.9"
  },
  "orig_nbformat": 4,
  "vscode": {
   "interpreter": {
    "hash": "fbf38809935e39f72161a271a1645cffc3be58087cc7fd053f4a2f19435a12d0"
   }
  }
 },
 "nbformat": 4,
 "nbformat_minor": 2
}
